{
 "cells": [
  {
   "cell_type": "code",
   "execution_count": null,
   "metadata": {},
   "outputs": [],
   "source": [
    "!pip install gymnasium"
   ]
  },
  {
   "cell_type": "code",
   "execution_count": 16,
   "metadata": {},
   "outputs": [],
   "source": [
    "import gymnasium as gym\n",
    "import torch\n",
    "import torch.nn as nn\n",
    "import torch.nn.functional as F\n",
    "import torch.optim as optim\n",
    "from torch.distributions import Categorical\n",
    "import matplotlib.pyplot as plt\n",
    "from IPython.display import clear_output"
   ]
  },
  {
   "cell_type": "code",
   "execution_count": null,
   "metadata": {},
   "outputs": [],
   "source": [
    "# Example render\n",
    "env = gym.make('CartPole-v1', render_mode='human')\n",
    "\n",
    "for episode in range(10):\n",
    "    done = False\n",
    "    env.reset()\n",
    "    while not done:\n",
    "        _, _, done, __annotations__, _ = env.step(env.action_space.sample()) # take a random action\n",
    "    \n",
    "env.close()\n"
   ]
  },
  {
   "cell_type": "code",
   "execution_count": 17,
   "metadata": {},
   "outputs": [
    {
     "name": "stdout",
     "output_type": "stream",
     "text": [
      "Using device: cpu\n"
     ]
    }
   ],
   "source": [
    "# Hyperparameters\n",
    "learning_rate = 0.001\n",
    "gamma         = 0.98\n",
    "layer_size    = 64\n",
    "\n",
    "# Device configuration\n",
    "device = torch.device('cuda' if torch.cuda.is_available() else 'cpu')\n",
    "print(f\"Using device: {device}\")\n",
    "\n",
    "class Policy(nn.Module):\n",
    "    def __init__(self):\n",
    "        super(Policy, self).__init__()\n",
    "        self.data = []\n",
    "        \n",
    "        self.fc1 = nn.Linear(4, layer_size)\n",
    "        self.fc2 = nn.Linear(layer_size, 2)\n",
    "        self.optimizer = optim.Adam(self.parameters(), lr=learning_rate)\n",
    "\n",
    "        self.to(device)\n",
    "\n",
    "        print(f\"Number of parameters: {sum(p.numel() for p in self.parameters())}\")\n",
    "\n",
    "        \n",
    "    def forward(self, x):\n",
    "        x = F.relu(self.fc1(x))\n",
    "        x = F.softmax(self.fc2(x), dim=0)\n",
    "        return x\n",
    "      \n",
    "    def put_data(self, item):\n",
    "        self.data.append(item)\n",
    "        \n",
    "    def train_net(self):\n",
    "        R = 0\n",
    "        self.optimizer.zero_grad()\n",
    "        for r, prob in self.data[::-1]:\n",
    "            R = r + gamma * R\n",
    "            loss = -torch.log(prob) * R\n",
    "            loss.backward()\n",
    "        self.optimizer.step()\n",
    "        self.data = []"
   ]
  },
  {
   "cell_type": "code",
   "execution_count": 18,
   "metadata": {},
   "outputs": [
    {
     "name": "stdout",
     "output_type": "stream",
     "text": [
      "Number of parameters: 450\n"
     ]
    }
   ],
   "source": [
    "# Define the environment and the model\n",
    "env = gym.make('CartPole-v1')\n",
    "model = Policy()"
   ]
  },
  {
   "cell_type": "code",
   "execution_count": 19,
   "metadata": {},
   "outputs": [
    {
     "data": {
      "image/png": "[encoded data removed]",
      "text/plain": [
       "<Figure size 800x500 with 1 Axes>"
      ]
     },
     "metadata": {},
     "output_type": "display_data"
    },
    {
     "name": "stdout",
     "output_type": "stream",
     "text": [
      "Clear at 840 episode\n",
      "Training complete at 840 episode\n"
     ]
    }
   ],
   "source": [
    "# Training\n",
    "score_log = []\n",
    "score = 0.0\n",
    "print_interval = 20\n",
    "\n",
    "\n",
    "for n_epi in range(10000):\n",
    "    s, _ = env.reset()\n",
    "    done = False\n",
    "    \n",
    "    while not done:\n",
    "        s = torch.tensor(s, dtype=torch.float32, device=device)\n",
    "        prob = model(s)\n",
    "        m = Categorical(prob)\n",
    "        a = m.sample()\n",
    "        s_prime, r, done, truncated, info = env.step(a.item())\n",
    "        model.put_data((r,prob[a]))\n",
    "        s = s_prime\n",
    "        score += r\n",
    "        \n",
    "    model.train_net()\n",
    "    \n",
    "    if n_epi%print_interval==0 and n_epi!=0:\n",
    "        score_log.append(score/print_interval)\n",
    "        score = 0.0\n",
    "        \n",
    "        clear_output(wait=True)\n",
    "        plt.figure(figsize=(8, 5))\n",
    "        plt.plot(score_log)\n",
    "        plt.title(f'score at {n_epi} episode')\n",
    "        plt.show()\n",
    "\n",
    "        if score_log[-1] > 300:\n",
    "            print(f\"Clear at {n_epi} episode\")\n",
    "            torch.save(model.state_dict(), 'cartpole_policy.pth')\n",
    "        if score_log[-1] > 500:\n",
    "            print(f\"Training complete at {n_epi} episode\")\n",
    "            break\n",
    "        \n",
    "env.close()"
   ]
  },
  {
   "cell_type": "code",
   "execution_count": null,
   "metadata": {},
   "outputs": [],
   "source": [
    "# Evaluation\n",
    "def evaluate(model, env, episodes=3):\n",
    "    total_score = 0\n",
    "    device = model.fc1.weight.device\n",
    "    for i in range(episodes):\n",
    "        s, _ = env.reset()\n",
    "        done = False\n",
    "        score = 0\n",
    "        while not done:\n",
    "            s = torch.tensor(s, dtype=torch.float32, device=device)\n",
    "            prob = model(s)\n",
    "            a = torch.argmax(prob).item()\n",
    "            s_prime, r, done, truncated, info = env.step(a)\n",
    "            score += r\n",
    "            s = s_prime\n",
    "        print(f\"Episode {i+1}: Score = {score}\")\n",
    "        total_score += score\n",
    "    print(f\"Average Score over {episodes} episodes: {total_score / episodes}\")\n",
    "\n",
    "if __name__ == '__main__':\n",
    "    env = gym.make('CartPole-v1', render_mode='human')\n",
    "    model = Policy()\n",
    "    model.load_state_dict(torch.load('cartpole_policy.pth'))\n",
    "    model.eval()\n",
    "\n",
    "    evaluate(model, env)\n",
    "    env.close()"
   ]
  }
 ],
 "metadata": {
  "kernelspec": {
   "display_name": "Python 3",
   "language": "python",
   "name": "python3"
  },
  "language_info": {
   "codemirror_mode": {
    "name": "ipython",
    "version": 3
   },
   "file_extension": ".py",
   "mimetype": "text/x-python",
   "name": "python",
   "nbconvert_exporter": "python",
   "pygments_lexer": "ipython3",
   "version": "3.11.4"
  }
 },
 "nbformat": 4,
 "nbformat_minor": 2
}
