{
 "cells": [
  {
   "cell_type": "code",
   "execution_count": null,
   "metadata": {},
   "outputs": [],
   "source": [
    "import gymnasium as gym\n",
    "import torch\n",
    "import torch.nn as nn\n",
    "import torch.nn.functional as F\n",
    "import torch.optim as optim\n",
    "from torch.distributions import Categorical\n",
    "import matplotlib.pyplot as plt\n",
    "from IPython.display import clear_output"
   ]
  },
  {
   "cell_type": "code",
   "execution_count": null,
   "metadata": {},
   "outputs": [],
   "source": [
    "# Example render\n",
    "env = gym.make('LunarLander-v3', render_mode='human')\n",
    "\n",
    "for episode in range(3):\n",
    "    done = False\n",
    "    env.reset()\n",
    "    while not done:\n",
    "        _, _, done, __annotations__, _ = env.step(env.action_space.sample()) # take a random action\n",
    "    \n",
    "env.close()"
   ]
  },
  {
   "cell_type": "code",
   "execution_count": null,
   "metadata": {},
   "outputs": [],
   "source": [
    "from stable_baselines3 import PPO\n",
    "from stable_baselines3.common.env_util import make_vec_env\n",
    "\n",
    "env = make_vec_env('LunarLander-v3', n_envs=1)\n",
    "model = PPO('MlpPolicy', env)"
   ]
  },
  {
   "cell_type": "code",
   "execution_count": null,
   "metadata": {},
   "outputs": [],
   "source": [
    "model.learn(total_timesteps=1000)\n",
    "env.close()"
   ]
  },
  {
   "cell_type": "code",
   "execution_count": null,
   "metadata": {},
   "outputs": [],
   "source": [
    "import gymnasium as gym\n",
    "from stable_baselines3 import PPO\n",
    "\n",
    "def evaluate(model, env, episodes=3):\n",
    "    total_score = 0\n",
    "    for i in range(episodes):\n",
    "        s = env.reset()[0]\n",
    "        done = False\n",
    "        score = 0\n",
    "        while not done:\n",
    "            a, _ = model.predict(s, deterministic=True)\n",
    "            s, r, done, _, _ = env.step(a)\n",
    "            score += r\n",
    "        print(f\"Episode {i+1}: Score = {score}\")\n",
    "        total_score += score\n",
    "    print(f\"Average Score over {episodes} episodes: {total_score / episodes}\")\n",
    "\n",
    "if __name__ == '__main__':\n",
    "    env = gym.make('LunarLander-v3', render_mode='human')\n",
    "    # model = PPO.load('lunarlander_policy')\n",
    "\n",
    "    evaluate(model, env)\n",
    "\n",
    "    env.close()"
   ]
  }
 ],
 "metadata": {
  "kernelspec": {
   "display_name": "Python 3",
   "language": "python",
   "name": "python3"
  },
  "language_info": {
   "codemirror_mode": {
    "name": "ipython",
    "version": 3
   },
   "file_extension": ".py",
   "mimetype": "text/x-python",
   "name": "python",
   "nbconvert_exporter": "python",
   "pygments_lexer": "ipython3",
   "version": "3.11.4"
  }
 },
 "nbformat": 4,
 "nbformat_minor": 2
}
