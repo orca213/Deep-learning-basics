{
 "cells": [
  {
   "cell_type": "markdown",
   "metadata": {},
   "source": [
    "### 변수"
   ]
  },
  {
   "cell_type": "code",
   "execution_count": null,
   "metadata": {},
   "outputs": [],
   "source": [
    "# 변수 (int)\n",
    "a = 1\n",
    "print(a)\n",
    "print(type(a))"
   ]
  },
  {
   "cell_type": "code",
   "execution_count": null,
   "metadata": {},
   "outputs": [],
   "source": [
    "# 변수 (float)\n",
    "a = 1.5\n",
    "print(a)\n",
    "print(type(a))"
   ]
  },
  {
   "cell_type": "markdown",
   "metadata": {},
   "source": [
    "### 리스트"
   ]
  },
  {
   "cell_type": "code",
   "execution_count": null,
   "metadata": {},
   "outputs": [],
   "source": [
    "# 리스트\n",
    "list_a = [1, 2, 3]\n",
    "print(list_a)\n",
    "print(type(list_a))"
   ]
  },
  {
   "cell_type": "code",
   "execution_count": null,
   "metadata": {},
   "outputs": [],
   "source": [
    "# 요소 읽기\n",
    "list_a = [1, 2, 3]\n",
    "print(list_a[1])"
   ]
  },
  {
   "cell_type": "code",
   "execution_count": null,
   "metadata": {},
   "outputs": [],
   "source": [
    "# 요수 추가\n",
    "list_a = [1, 2, 3]\n",
    "print(list_a)\n",
    "list_a.append(4)\n",
    "print(list_a)\n",
    "list_a.insert(0, 5)\n",
    "print(list_a)"
   ]
  },
  {
   "cell_type": "markdown",
   "metadata": {},
   "source": [
    "### 딕셔너리"
   ]
  },
  {
   "cell_type": "code",
   "execution_count": null,
   "metadata": {},
   "outputs": [],
   "source": [
    "# 딕셔너리\n",
    "dict_a = {\n",
    "    '이상현': 26,\n",
    "    '박성제': 26,\n",
    "    '이소민': 26,\n",
    "}\n",
    "print(dict_a)\n",
    "print(type(dict_a))"
   ]
  },
  {
   "cell_type": "code",
   "execution_count": null,
   "metadata": {},
   "outputs": [],
   "source": [
    "# 요소 읽기\n",
    "dict_a = {'이상현': 26, '박성제': 26, '이소민': 26}\n",
    "print(dict_a['이상현'])"
   ]
  },
  {
   "cell_type": "code",
   "execution_count": null,
   "metadata": {},
   "outputs": [],
   "source": [
    "dict_b = {}\n",
    "keys = ['a', 'b', 'c', 'z']\n",
    "values = [1, 2, 4, 7]\n",
    "\n",
    "for i in range(4):\n",
    "    이름 = keys[i]\n",
    "    값 = values[i]\n",
    "    dict_b[이름] = 값\n",
    "\n",
    "print(dict_b)"
   ]
  },
  {
   "cell_type": "markdown",
   "metadata": {},
   "source": [
    "### if 문"
   ]
  },
  {
   "cell_type": "code",
   "execution_count": null,
   "metadata": {},
   "outputs": [],
   "source": [
    "# if 문\n",
    "이상현_나이 = 26\n",
    "if 이상현_나이 <= 30:\n",
    "    print(\"He is young\")\n",
    "else:\n",
    "    print(\"He is old\")"
   ]
  },
  {
   "cell_type": "markdown",
   "metadata": {},
   "source": [
    "### for 문"
   ]
  },
  {
   "cell_type": "code",
   "execution_count": null,
   "metadata": {},
   "outputs": [],
   "source": [
    "# for 문\n",
    "list_a = [1, 2, 3, 4, 5]\n",
    "for i in list_a:\n",
    "    print(i)"
   ]
  },
  {
   "cell_type": "code",
   "execution_count": null,
   "metadata": {},
   "outputs": [],
   "source": [
    "# break\n",
    "list_a = [1, 2, 3, 4, 5]\n",
    "for i in list_a:\n",
    "    print(i)\n",
    "    if i == 3:\n",
    "        break"
   ]
  },
  {
   "cell_type": "markdown",
   "metadata": {},
   "source": [
    "### while 문"
   ]
  },
  {
   "cell_type": "code",
   "execution_count": null,
   "metadata": {},
   "outputs": [],
   "source": [
    "# while 문\n",
    "i = 0\n",
    "while i < 5:\n",
    "    print(i)\n",
    "    i += 1"
   ]
  },
  {
   "cell_type": "code",
   "execution_count": null,
   "metadata": {},
   "outputs": [],
   "source": [
    "# break\n",
    "i = 0\n",
    "while i < 5:\n",
    "    print(i)\n",
    "    i += 1\n",
    "    if i == 3:\n",
    "        break"
   ]
  },
  {
   "cell_type": "markdown",
   "metadata": {},
   "source": [
    "### 함수"
   ]
  },
  {
   "cell_type": "code",
   "execution_count": null,
   "metadata": {},
   "outputs": [],
   "source": [
    "# 함수\n",
    "def deotsem(a, b):\n",
    "    c = a + b\n",
    "    return c\n",
    "\n",
    "a = 1\n",
    "b = 3\n",
    "c = deotsem(a, b)\n",
    "print(c)"
   ]
  },
  {
   "cell_type": "markdown",
   "metadata": {},
   "source": [
    "### 클래스"
   ]
  },
  {
   "cell_type": "code",
   "execution_count": null,
   "metadata": {},
   "outputs": [],
   "source": [
    "# 클래스\n",
    "class Student:\n",
    "    pass\n",
    "\n",
    "이상현 = Student()\n",
    "print(type(이상현))"
   ]
  },
  {
   "cell_type": "code",
   "execution_count": null,
   "metadata": {},
   "outputs": [],
   "source": [
    "# 메서드\n",
    "class Student:\n",
    "    def __init__(self, age, grade):\n",
    "        self.age = age\n",
    "        self.grade = grade\n",
    "    \n",
    "    def study_hard(self):\n",
    "        self.grade += 10\n",
    "        print(\"이상현이 공부를 했다..! (grade +10)\")\n",
    "\n",
    "이상현 = Student(age=26, grade=60)\n",
    "print(이상현.grade)\n",
    "\n",
    "이상현.study_hard()\n",
    "print(이상현.grade)"
   ]
  },
  {
   "cell_type": "code",
   "execution_count": null,
   "metadata": {},
   "outputs": [],
   "source": [
    "# 클래스 상속\n",
    "class SpecialStudent(Student):\n",
    "    def __init__(self, age, grade, major):\n",
    "        super().__init__(age, grade)\n",
    "        self.major = major\n",
    "\n",
    "\n",
    "이상현 = SpecialStudent(age=26, grade=60, major=\"producing\")\n",
    "print(type(이상현))\n",
    "print(이상현.age)\n",
    "print(이상현.grade)\n",
    "print(이상현.major)\n",
    "\n",
    "이상현.study_hard()"
   ]
  }
 ],
 "metadata": {
  "kernelspec": {
   "display_name": "Python 3",
   "language": "python",
   "name": "python3"
  },
  "language_info": {
   "codemirror_mode": {
    "name": "ipython",
    "version": 3
   },
   "file_extension": ".py",
   "mimetype": "text/x-python",
   "name": "python",
   "nbconvert_exporter": "python",
   "pygments_lexer": "ipython3",
   "version": "3.11.4"
  }
 },
 "nbformat": 4,
 "nbformat_minor": 2
}
