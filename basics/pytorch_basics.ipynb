{
 "cells": [
  {
   "cell_type": "markdown",
   "metadata": {},
   "source": [
    "### Import"
   ]
  },
  {
   "cell_type": "code",
   "execution_count": null,
   "metadata": {},
   "outputs": [],
   "source": [
    "# import pytorch\n",
    "import torch"
   ]
  },
  {
   "cell_type": "markdown",
   "metadata": {},
   "source": [
    "### 텐서"
   ]
  },
  {
   "cell_type": "code",
   "execution_count": null,
   "metadata": {},
   "outputs": [],
   "source": [
    "# 텐서\n",
    "tensor = torch.tensor([[1, 2, 3], [4, 5, 6]])\n",
    "print(tensor)\n",
    "print(type(tensor))"
   ]
  },
  {
   "cell_type": "code",
   "execution_count": null,
   "metadata": {},
   "outputs": [],
   "source": [
    "# 텐서의 크기\n",
    "tensor = torch.tensor([[1, 2, 3], [4, 5, 6]])\n",
    "print(tensor.shape)"
   ]
  },
  {
   "cell_type": "markdown",
   "metadata": {},
   "source": [
    "### 텐서의 변환"
   ]
  },
  {
   "cell_type": "code",
   "execution_count": null,
   "metadata": {},
   "outputs": [],
   "source": [
    "# 텐서의 변환\n",
    "tensor = torch.tensor([[1, 2, 3], [4, 5, 6]])\n",
    "reshaped_tensor = tensor.reshape(3, 2)\n",
    "print(tensor)\n",
    "print(reshaped_tensor)"
   ]
  },
  {
   "cell_type": "markdown",
   "metadata": {},
   "source": [
    "### 그래디언트"
   ]
  },
  {
   "cell_type": "code",
   "execution_count": null,
   "metadata": {},
   "outputs": [],
   "source": [
    "# 그래디언트\n",
    "tensor = torch.tensor([1.0, 2.0], requires_grad=True)\n",
    "y = torch.sum(tensor**3)\n",
    "print(tensor.grad)\n",
    "\n",
    "y.backward()\n",
    "print(tensor.grad)"
   ]
  },
  {
   "cell_type": "markdown",
   "metadata": {},
   "source": [
    "### 선형 회귀법"
   ]
  },
  {
   "cell_type": "code",
   "execution_count": null,
   "metadata": {},
   "outputs": [],
   "source": [
    "import numpy as np\n",
    "import matplotlib.pyplot as plt"
   ]
  },
  {
   "cell_type": "markdown",
   "metadata": {},
   "source": [
    "정답: $ y = 2x + 3 $\n",
    "\n",
    "함수를 다음과 같이 가정하고\n",
    "\n",
    "$ y = a \\times x + b $\n",
    "\n",
    "2개의 파라미터 $ a, b $의 값을 학습한다."
   ]
  },
  {
   "cell_type": "code",
   "execution_count": null,
   "metadata": {},
   "outputs": [],
   "source": [
    "# 문제 정의\n",
    "x = torch.tensor([[1.0], [2.0], [3.0]])\n",
    "y = 2*x + 3\n",
    "\n",
    "# 데이터 시각화\n",
    "plt.scatter(x, y)\n",
    "plt.title(\"Data\")\n",
    "plt.show()\n"
   ]
  },
  {
   "cell_type": "code",
   "execution_count": null,
   "metadata": {},
   "outputs": [],
   "source": [
    "# 초기값 정의\n",
    "b = torch.tensor(1.0, requires_grad=True)\n",
    "a = torch.tensor(1.0, requires_grad=True)\n",
    "print(f\"a: {a.item()}, b: {b.item()}\")"
   ]
  },
  {
   "cell_type": "code",
   "execution_count": null,
   "metadata": {},
   "outputs": [],
   "source": [
    "# 파라미터 학습\n",
    "optimizer = torch.optim.SGD([a, b], lr=0.001)\n",
    "\n",
    "for epoch in range(1):\n",
    "    y_pred = a * x + b\n",
    "    loss = torch.sum((y_pred - y)**2)\n",
    "    \n",
    "    optimizer.zero_grad()\n",
    "    loss.backward()\n",
    "    optimizer.step()"
   ]
  },
  {
   "cell_type": "code",
   "execution_count": null,
   "metadata": {},
   "outputs": [],
   "source": [
    "# 선형 회귀법\n",
    "b = torch.tensor(1.0, requires_grad=True)\n",
    "a = torch.tensor(1.0, requires_grad=True)\n",
    "print(f\"초기값: a: {a.item()}, b: {b.item()}\")\n",
    "\n",
    "optimizer = torch.optim.SGD([a, b], lr=0.001)\n",
    "\n",
    "for epoch in range(10000):\n",
    "    y_pred = a * x + b\n",
    "    loss = torch.sum((y_pred - y)**2)\n",
    "    \n",
    "    optimizer.zero_grad()\n",
    "    loss.backward()\n",
    "    optimizer.step()\n",
    "\n",
    "print()\n",
    "print(\"After 10000 epoch . . .\")\n",
    "print(f\"학습된 예측값: a: {a.item()}, b: {b.item()}\")\n",
    "\n",
    "# 시각화\n",
    "x_domain = np.linspace(0, 5, 100)\n",
    "y_domain = []\n",
    "for x_in in x_domain:\n",
    "    y_domain.append((a * x_in + b).detach().numpy())\n",
    "plt.plot(x_domain, y_domain, color=\"orange\")\n",
    "plt.scatter(x, y)\n",
    "plt.title(\"Prediction after 10000 epoch\")\n",
    "plt.show()"
   ]
  },
  {
   "cell_type": "markdown",
   "metadata": {},
   "source": [
    "### 실습 #1"
   ]
  },
  {
   "cell_type": "markdown",
   "metadata": {},
   "source": [
    "정답: $ y = 2(x-5)^2 + 3 $\n",
    "\n",
    "함수를 다음과 같이 가정하고\n",
    "\n",
    "$ y = a \\times (x-b)^2 + c $\n",
    "\n",
    "3개의 파라미터 $ a, b, c $의 값을 학습한다."
   ]
  },
  {
   "cell_type": "code",
   "execution_count": null,
   "metadata": {},
   "outputs": [],
   "source": [
    "# 함수 정의\n",
    "x = torch.tensor(range(10))\n",
    "y = 2*(x-5)**2 + 3\n",
    "\n",
    "# 데이터 시각화\n",
    "plt.scatter(x, y)\n",
    "plt.title(\"Data\")\n",
    "plt.show()"
   ]
  },
  {
   "cell_type": "code",
   "execution_count": null,
   "metadata": {},
   "outputs": [],
   "source": [
    "# 선형 회귀법 구현\n",
    "\n",
    "# 1. 초기값 정의\n",
    "# TODO\n",
    "\n",
    "# 2. 옵티마이저 정의\n",
    "# TODO\n",
    "\n",
    "# 3. 파라미터 학습\n",
    "# TODO\n",
    "\n",
    "# 4. 시각화\n"
   ]
  },
  {
   "cell_type": "markdown",
   "metadata": {},
   "source": [
    "### 인공신경망"
   ]
  },
  {
   "cell_type": "code",
   "execution_count": null,
   "metadata": {},
   "outputs": [],
   "source": [
    "import torch\n",
    "from torch import nn"
   ]
  },
  {
   "cell_type": "code",
   "execution_count": null,
   "metadata": {},
   "outputs": [],
   "source": [
    "# 문제 정의\n",
    "x = torch.tensor([[1.0], [2.0], [3.0]])\n",
    "y = 2*x + 3\n",
    "\n",
    "# 데이터 시각화\n",
    "plt.scatter(x, y)\n",
    "plt.title(\"Data\")\n",
    "plt.show()\n"
   ]
  },
  {
   "cell_type": "code",
   "execution_count": null,
   "metadata": {},
   "outputs": [],
   "source": [
    "# 인공 신경망 정의\n",
    "class NeuralNetwork(nn.Module):\n",
    "    def __init__(self):\n",
    "        super().__init__() # 모델 연산 정의\n",
    "        self.layer1 = nn.Linear(1, 50)\n",
    "        self.layer2 = nn.Linear(50, 30)\n",
    "        self.layer3 = nn.Linear(30, 1)\n",
    "        \n",
    "    def forward(self, x):\n",
    "        x = self.layer1(x)\n",
    "        x = self.layer2(x)\n",
    "        x = self.layer3(x)\n",
    "      \n",
    "        return x\n",
    "    \n",
    "model = NeuralNetwork()\n",
    "\n",
    "# 시각화\n",
    "x_domain = np.linspace(0, 5, 100)\n",
    "x_tensor = torch.tensor(x_domain, dtype=torch.float32).unsqueeze(1)\n",
    "y_domain = model(x_tensor).detach().numpy()\n",
    "\n",
    "\n",
    "plt.plot(x_domain, y_domain, color=\"orange\")\n",
    "plt.scatter(x, y)\n",
    "plt.title(\"Prediction after 10000 epoch\")\n",
    "plt.show()"
   ]
  },
  {
   "cell_type": "code",
   "execution_count": null,
   "metadata": {},
   "outputs": [],
   "source": [
    "# 모델 학습\n",
    "model = NeuralNetwork()\n",
    "optimizer = torch.optim.SGD(model.parameters(), lr=0.001)\n",
    "\n",
    "for epoch in range(10000):\n",
    "    y_pred = model(x)\n",
    "    loss = torch.sum((y_pred - y)**2)\n",
    "    \n",
    "    optimizer.zero_grad()\n",
    "    loss.backward()\n",
    "    optimizer.step()"
   ]
  },
  {
   "cell_type": "code",
   "execution_count": null,
   "metadata": {},
   "outputs": [],
   "source": [
    "# 시각화\n",
    "x_domain = np.linspace(0, 5, 100)\n",
    "x_tensor = torch.tensor(x_domain, dtype=torch.float32).unsqueeze(1)\n",
    "y_domain = model(x_tensor).detach().numpy()\n",
    "\n",
    "\n",
    "plt.plot(x_domain, y_domain, color=\"orange\")\n",
    "plt.scatter(x, y)\n",
    "plt.title(\"Prediction after 10000 epoch\")\n",
    "plt.show()"
   ]
  },
  {
   "cell_type": "markdown",
   "metadata": {},
   "source": [
    "### 과제 #1"
   ]
  },
  {
   "cell_type": "markdown",
   "metadata": {},
   "source": [
    "정답: $ y = 2(x-5)^2 + 3 $\n",
    "\n",
    "인공신경망을 학습하여 함수를 예측한다."
   ]
  },
  {
   "cell_type": "code",
   "execution_count": null,
   "metadata": {},
   "outputs": [],
   "source": [
    "# 함수 정의\n",
    "x = torch.tensor(range(10))\n",
    "y = 2*(x-5)**2 + 3\n",
    "\n",
    "# 데이터 시각화\n",
    "plt.scatter(x, y)\n",
    "plt.title(\"Data\")\n",
    "plt.show()"
   ]
  },
  {
   "cell_type": "code",
   "execution_count": null,
   "metadata": {},
   "outputs": [],
   "source": [
    "# 인공신경망 구현\n",
    "\n",
    "# 1. 초기값 정의\n",
    "# TODO\n",
    "\n",
    "# 2. 옵티마이저 정의\n",
    "# TODO\n",
    "\n",
    "# 3. 파라미터 학습\n",
    "# TODO\n",
    "\n",
    "# 4. 시각화\n"
   ]
  }
 ],
 "metadata": {
  "kernelspec": {
   "display_name": "Python 3",
   "language": "python",
   "name": "python3"
  },
  "language_info": {
   "codemirror_mode": {
    "name": "ipython",
    "version": 3
   },
   "file_extension": ".py",
   "mimetype": "text/x-python",
   "name": "python",
   "nbconvert_exporter": "python",
   "pygments_lexer": "ipython3",
   "version": "3.11.4"
  }
 },
 "nbformat": 4,
 "nbformat_minor": 2
}
