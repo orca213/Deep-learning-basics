{
 "cells": [
  {
   "cell_type": "markdown",
   "metadata": {},
   "source": [
    "### 모듈 불러오기"
   ]
  },
  {
   "cell_type": "code",
   "execution_count": null,
   "metadata": {},
   "outputs": [],
   "source": [
    "# 모듈 설치\n",
    "!pip3 install torch"
   ]
  },
  {
   "cell_type": "code",
   "execution_count": null,
   "metadata": {},
   "outputs": [],
   "source": [
    "# import pytorch\n",
    "import torch"
   ]
  },
  {
   "cell_type": "markdown",
   "metadata": {},
   "source": [
    "### 텐서"
   ]
  },
  {
   "cell_type": "code",
   "execution_count": null,
   "metadata": {},
   "outputs": [],
   "source": [
    "# 텐서\n",
    "tensor = torch.tensor([[1, 2, 3], [4, 5, 6]])\n",
    "print(tensor)\n",
    "print(type(tensor))"
   ]
  },
  {
   "cell_type": "code",
   "execution_count": null,
   "metadata": {},
   "outputs": [],
   "source": [
    "# 텐서의 크기\n",
    "tensor = torch.tensor([[1, 2, 3], [4, 5, 6]])\n",
    "print(tensor.shape)"
   ]
  },
  {
   "cell_type": "markdown",
   "metadata": {},
   "source": [
    "### 텐서의 변환"
   ]
  },
  {
   "cell_type": "code",
   "execution_count": null,
   "metadata": {},
   "outputs": [],
   "source": [
    "# 텐서의 변환\n",
    "tensor = torch.tensor([[1, 2, 3], [4, 5, 6]])\n",
    "reshaped_tensor = tensor.reshape(3, 2)\n",
    "print(tensor)\n",
    "print(reshaped_tensor)"
   ]
  },
  {
   "cell_type": "markdown",
   "metadata": {},
   "source": [
    "### 그래디언트"
   ]
  },
  {
   "cell_type": "code",
   "execution_count": null,
   "metadata": {},
   "outputs": [],
   "source": [
    "# 그래디언트\n",
    "tensor = torch.tensor([1.0, 2.0], requires_grad=True)\n",
    "y = torch.sum(tensor**3)\n",
    "print(tensor.grad)\n",
    "\n",
    "y.backward()\n",
    "print(tensor.grad)"
   ]
  },
  {
   "cell_type": "markdown",
   "metadata": {},
   "source": [
    "### 선형 회귀법"
   ]
  },
  {
   "cell_type": "code",
   "execution_count": null,
   "metadata": {},
   "outputs": [],
   "source": [
    "import torch\n",
    "import numpy as np\n",
    "import matplotlib.pyplot as plt"
   ]
  },
  {
   "cell_type": "markdown",
   "metadata": {},
   "source": [
    "정답: $ y = 2x + 3 $\n",
    "\n",
    "함수를 다음과 같이 가정하고\n",
    "\n",
    "$ y = a \\times x + b $\n",
    "\n",
    "2개의 파라미터 $ a, b $의 값을 학습한다."
   ]
  },
  {
   "cell_type": "code",
   "execution_count": null,
   "metadata": {},
   "outputs": [],
   "source": [
    "# 문제 정의\n",
    "x = torch.rand(200, 1) * 5\n",
    "noise = torch.randn(*x.shape) * 0.1\n",
    "y = 2*x + 3 + noise\n",
    "\n",
    "# 데이터 분리\n",
    "split_index = 150\n",
    "x_train, x_test = x[:split_index], x[split_index:]\n",
    "y_train, y_test = y[:split_index], y[split_index:]\n",
    "\n",
    "# 데이터 시각화\n",
    "plt.figure(figsize=(10, 5))\n",
    "plt.subplot(1, 2, 1)  # 첫 번째 서브플롯\n",
    "plt.scatter(x_train, y_train, s=10, color=\"blue\", label=\"Train Data\")\n",
    "plt.title(\"Train Data\")\n",
    "\n",
    "plt.subplot(1, 2, 2)  # 두 번째 서브플롯\n",
    "plt.scatter(x_test, y_test, s=10, color=\"red\", label=\"Test Data\")\n",
    "plt.title(\"Test Data\")\n",
    "plt.show()"
   ]
  },
  {
   "cell_type": "code",
   "execution_count": null,
   "metadata": {},
   "outputs": [],
   "source": [
    "# 초기값 정의\n",
    "a = torch.tensor(1.0, requires_grad=True)\n",
    "b = torch.tensor(1.0, requires_grad=True)\n",
    "print(f\"a: {a.item()}, b: {b.item()}\")"
   ]
  },
  {
   "cell_type": "code",
   "execution_count": null,
   "metadata": {},
   "outputs": [],
   "source": [
    "# 옵티마이저 정의\n",
    "optimizer = torch.optim.SGD([a, b], lr=0.00001)"
   ]
  },
  {
   "cell_type": "code",
   "execution_count": null,
   "metadata": {},
   "outputs": [],
   "source": [
    "# 파라미터 학습\n",
    "for epoch in range(10000):\n",
    "    y_pred = a * x_train + b\n",
    "    loss = torch.sum((y_pred - y_train)**2)\n",
    "    \n",
    "    optimizer.zero_grad()\n",
    "    loss.backward()\n",
    "    optimizer.step()"
   ]
  },
  {
   "cell_type": "code",
   "execution_count": null,
   "metadata": {},
   "outputs": [],
   "source": [
    "# 학습된 파라미터 확인\n",
    "print(f\"학습된 예측값: a: {a.item()}, b: {b.item()}\")\n",
    "\n",
    "# 시각화\n",
    "y_pred = a * x_test + b\n",
    "plt.plot(x_test.detach().numpy(), y_pred.detach().numpy(), label='Prediction', color='orange')\n",
    "plt.scatter(x_test.detach().numpy(), y_test.detach().numpy(), s=10, label='Test data')\n",
    "plt.title(\"Prediction after 10000 epoch\")\n",
    "plt.legend()\n",
    "plt.show()"
   ]
  },
  {
   "cell_type": "markdown",
   "metadata": {},
   "source": [
    "### 실습 #1"
   ]
  },
  {
   "cell_type": "markdown",
   "metadata": {},
   "source": [
    "정답: $ y = 2(x-5)^2 + 3 $\n",
    "\n",
    "함수를 다음과 같이 가정하고\n",
    "\n",
    "$ y = a \\times (x-b)^2 + c $\n",
    "\n",
    "3개의 파라미터 $ a, b, c $의 값을 학습한다."
   ]
  },
  {
   "cell_type": "code",
   "execution_count": null,
   "metadata": {},
   "outputs": [],
   "source": [
    "# 문제 정의\n",
    "x = torch.rand(200, 1) * 5\n",
    "noise = torch.randn(*x.shape) * 0.1\n",
    "y = 2*(x-2)**2 + 3 + noise\n",
    "\n",
    "# 데이터 분리\n",
    "split_index = 150\n",
    "x_train, x_test = x[:split_index], x[split_index:]\n",
    "y_train, y_test = y[:split_index], y[split_index:]\n",
    "\n",
    "# 데이터 시각화\n",
    "plt.figure(figsize=(10, 5))\n",
    "plt.subplot(1, 2, 1)  # 첫 번째 서브플롯\n",
    "plt.scatter(x_train, y_train, s=10, color=\"blue\", label=\"Train Data\")\n",
    "plt.title(\"Train Data\")\n",
    "\n",
    "plt.subplot(1, 2, 2)  # 두 번째 서브플롯\n",
    "plt.scatter(x_test, y_test, s=10, color=\"red\", label=\"Test Data\")\n",
    "plt.title(\"Test Data\")\n",
    "plt.show()"
   ]
  },
  {
   "cell_type": "code",
   "execution_count": null,
   "metadata": {},
   "outputs": [],
   "source": [
    "# 초기값 정의\n",
    "a = torch.tensor(1.0, requires_grad=True)\n",
    "b = torch.tensor(1.0, requires_grad=True)\n",
    "c = torch.tensor(1.0, requires_grad=True)\n",
    "print(f\"a: {a.item()}, b: {b.item()}, c: {c.item()}\")"
   ]
  },
  {
   "cell_type": "code",
   "execution_count": null,
   "metadata": {},
   "outputs": [],
   "source": [
    "# 옵티마이저 정의\n",
    "optimizer = torch.optim.SGD([a, b, c], lr=0.00001)"
   ]
  },
  {
   "cell_type": "code",
   "execution_count": null,
   "metadata": {},
   "outputs": [],
   "source": [
    "# 파라미터 학습\n",
    "for epoch in range(10000):\n",
    "    y_pred = a * (x_train-b)**2 + c\n",
    "    loss = torch.sum((y_pred - y_train)**2)\n",
    "    \n",
    "    optimizer.zero_grad()\n",
    "    loss.backward()\n",
    "    optimizer.step()"
   ]
  },
  {
   "cell_type": "code",
   "execution_count": null,
   "metadata": {},
   "outputs": [],
   "source": [
    "# 학습된 파라미터 확인\n",
    "print(f\"학습된 예측값: a: {a.item()}, b: {b.item()}, c: {c.item()}\")\n",
    "\n",
    "# 시각화\n",
    "y_pred = a * (x_test-b)**2 + c\n",
    "plt.scatter(x_test.detach().numpy(), y_test.detach().numpy(), s=10, label='Test data')\n",
    "plt.scatter(x_test.detach().numpy(), y_pred.detach().numpy(), s=10, label='Prediction', color='orange')\n",
    "plt.title(\"Prediction after 10000 epoch\")\n",
    "plt.legend()\n",
    "plt.show()"
   ]
  },
  {
   "cell_type": "markdown",
   "metadata": {},
   "source": [
    "### 인공신경망"
   ]
  },
  {
   "cell_type": "code",
   "execution_count": null,
   "metadata": {},
   "outputs": [],
   "source": [
    "import torch\n",
    "from torch import nn\n",
    "import matplotlib.pyplot as plt"
   ]
  },
  {
   "cell_type": "code",
   "execution_count": null,
   "metadata": {},
   "outputs": [],
   "source": [
    "# 문제 정의\n",
    "x = torch.rand(200, 1) * 5\n",
    "noise = torch.randn(*x.shape) * 0.1\n",
    "y = 2*x + 3 + noise\n",
    "\n",
    "# 데이터 분리\n",
    "split_index = 150\n",
    "x_train, x_test = x[:split_index], x[split_index:]\n",
    "y_train, y_test = y[:split_index], y[split_index:]\n",
    "\n",
    "# 데이터 시각화\n",
    "plt.figure(figsize=(10, 5))\n",
    "plt.subplot(1, 2, 1)  # 첫 번째 서브플롯\n",
    "plt.scatter(x_train, y_train, s=10, color=\"blue\", label=\"Train Data\")\n",
    "plt.title(\"Train Data\")\n",
    "\n",
    "plt.subplot(1, 2, 2)  # 두 번째 서브플롯\n",
    "plt.scatter(x_test, y_test, s=10, color=\"orange\", label=\"Test Data\")\n",
    "plt.title(\"Test Data\")\n",
    "plt.show()"
   ]
  },
  {
   "cell_type": "code",
   "execution_count": null,
   "metadata": {},
   "outputs": [],
   "source": [
    "# 인공 신경망 객체 정의\n",
    "class NeuralNetwork(nn.Module):\n",
    "    def __init__(self):\n",
    "        super().__init__() # 모델 연산 정의\n",
    "        self.layer1 = nn.Linear(1, 50)\n",
    "        self.layer2 = nn.Linear(50, 30)\n",
    "        self.layer3 = nn.Linear(30, 1)\n",
    "        self.relu = nn.ReLU()\n",
    "        \n",
    "    def forward(self, x):\n",
    "        x = self.relu(self.layer1(x))\n",
    "        x = self.relu(self.layer2(x))\n",
    "        x = self.layer3(x)\n",
    "      \n",
    "        return x"
   ]
  },
  {
   "cell_type": "code",
   "execution_count": null,
   "metadata": {},
   "outputs": [],
   "source": [
    "# 모델 정의\n",
    "model = NeuralNetwork()"
   ]
  },
  {
   "cell_type": "code",
   "execution_count": null,
   "metadata": {},
   "outputs": [],
   "source": [
    "# 시각화\n",
    "y_pred = model(x_test)\n",
    "plt.scatter(x_test.detach().numpy(), y_pred.detach().numpy(), s=10, label='Prediction', color='orange')\n",
    "plt.scatter(x_test.detach().numpy(), y_test.detach().numpy(), s=10, label='Test data')\n",
    "plt.title(\"Prediction after 10000 epoch\")\n",
    "plt.legend()\n",
    "plt.show()"
   ]
  },
  {
   "cell_type": "code",
   "execution_count": null,
   "metadata": {},
   "outputs": [],
   "source": [
    "# 옵티마이저 정의\n",
    "optimizer = torch.optim.SGD(model.parameters(), lr=0.001)\n",
    "loss_fn = nn.MSELoss()"
   ]
  },
  {
   "cell_type": "code",
   "execution_count": null,
   "metadata": {},
   "outputs": [],
   "source": [
    "# 모델 학습\n",
    "for epoch in range(10000):\n",
    "    y_pred = model(x_train)\n",
    "    loss = loss_fn(y_pred, y_train)\n",
    "    \n",
    "    optimizer.zero_grad()\n",
    "    loss.backward()\n",
    "    optimizer.step()"
   ]
  },
  {
   "cell_type": "code",
   "execution_count": null,
   "metadata": {},
   "outputs": [],
   "source": [
    "# 시각화\n",
    "y_pred = model(x_test)\n",
    "plt.scatter(x_test.detach().numpy(), y_pred.detach().numpy(), s=10, label='Prediction', color='orange')\n",
    "plt.scatter(x_test.detach().numpy(), y_test.detach().numpy(), s=10, label='Test data')\n",
    "plt.title(\"Prediction after 10000 epoch\")\n",
    "plt.legend()\n",
    "plt.show()"
   ]
  },
  {
   "cell_type": "markdown",
   "metadata": {},
   "source": [
    "### 과제 #1"
   ]
  },
  {
   "cell_type": "markdown",
   "metadata": {},
   "source": [
    "정답: $ y = 2(x-2)^2 + 3 $\n",
    "\n",
    "인공신경망을 학습하여 함수를 예측한다."
   ]
  },
  {
   "cell_type": "code",
   "execution_count": null,
   "metadata": {},
   "outputs": [],
   "source": [
    "import torch\n",
    "from torch import nn\n",
    "import matplotlib.pyplot as plt"
   ]
  },
  {
   "cell_type": "code",
   "execution_count": null,
   "metadata": {},
   "outputs": [],
   "source": [
    "# 문제 정의\n",
    "x = torch.rand(200, 1) * 5\n",
    "noise = torch.randn(*x.shape) * 0.1\n",
    "y = 2*(x-2)**2 + 3 + noise\n",
    "\n",
    "# 데이터 분리\n",
    "split_index = 150\n",
    "x_train, x_test = x[:split_index], x[split_index:]\n",
    "y_train, y_test = y[:split_index], y[split_index:]\n",
    "\n",
    "# 데이터 시각화\n",
    "plt.figure(figsize=(10, 5))\n",
    "plt.subplot(1, 2, 1)  # 첫 번째 서브플롯\n",
    "plt.scatter(x_train, y_train, s=10, color=\"blue\", label=\"Train Data\")\n",
    "plt.title(\"Train Data\")\n",
    "\n",
    "plt.subplot(1, 2, 2)  # 두 번째 서브플롯\n",
    "plt.scatter(x_test, y_test, s=10, color=\"orange\", label=\"Test Data\")\n",
    "plt.title(\"Test Data\")\n",
    "plt.show()"
   ]
  },
  {
   "cell_type": "code",
   "execution_count": null,
   "metadata": {},
   "outputs": [],
   "source": [
    "# 모델 정의\n",
    "model = NeuralNetwork()"
   ]
  },
  {
   "cell_type": "code",
   "execution_count": null,
   "metadata": {},
   "outputs": [],
   "source": [
    "# 시각화\n",
    "y_pred = model(x_test)\n",
    "plt.scatter(x_test.detach().numpy(), y_pred.detach().numpy(), s=10, label='Prediction', color='orange')\n",
    "plt.scatter(x_test.detach().numpy(), y_test.detach().numpy(), s=10, label='Test data')\n",
    "plt.title(\"Prediction after 10000 epoch\")\n",
    "plt.legend()\n",
    "plt.show()"
   ]
  },
  {
   "cell_type": "code",
   "execution_count": null,
   "metadata": {},
   "outputs": [],
   "source": [
    "# 옵티마이저 정의\n",
    "optimizer = torch.optim.SGD(model.parameters(), lr=0.001)\n",
    "loss_fn = nn.MSELoss()"
   ]
  },
  {
   "cell_type": "code",
   "execution_count": null,
   "metadata": {},
   "outputs": [],
   "source": [
    "# 모델 학습\n",
    "for epoch in range(10000):\n",
    "    y_pred = model(x_train)\n",
    "    loss = loss_fn(y_pred, y_train)\n",
    "    \n",
    "    optimizer.zero_grad()\n",
    "    loss.backward()\n",
    "    optimizer.step()"
   ]
  },
  {
   "cell_type": "code",
   "execution_count": null,
   "metadata": {},
   "outputs": [],
   "source": [
    "# 시각화\n",
    "y_pred = model(x_test)\n",
    "plt.scatter(x_test.detach().numpy(), y_pred.detach().numpy(), s=10, label='Prediction', color='orange')\n",
    "plt.scatter(x_test.detach().numpy(), y_test.detach().numpy(), s=10, label='Test data')\n",
    "plt.title(\"Prediction after 10000 epoch\")\n",
    "plt.legend()\n",
    "plt.show()"
   ]
  }
 ],
 "metadata": {
  "kernelspec": {
   "display_name": "Python 3",
   "language": "python",
   "name": "python3"
  },
  "language_info": {
   "codemirror_mode": {
    "name": "ipython",
    "version": 3
   },
   "file_extension": ".py",
   "mimetype": "text/x-python",
   "name": "python",
   "nbconvert_exporter": "python",
   "pygments_lexer": "ipython3",
   "version": "3.11.4"
  }
 },
 "nbformat": 4,
 "nbformat_minor": 2
}
